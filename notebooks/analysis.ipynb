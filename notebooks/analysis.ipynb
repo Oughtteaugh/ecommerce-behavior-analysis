{
 "cells": [
  {
   "cell_type": "code",
   "execution_count": null,
   "id": "164affff",
   "metadata": {},
   "outputs": [],
   "source": [
    "# =======================\n",
    "# 1. Импорт библиотек\n",
    "# =======================\n",
    "import pandas as pd\n",
    "import seaborn as sns\n",
    "import matplotlib.pyplot as plt\n",
    "\n",
    "# Настройки для графиков\n",
    "sns.set(style=\"whitegrid\")\n",
    "plt.rcParams[\"figure.figsize\"] = (12,6)\n",
    "\n",
    "# =======================\n",
    "# 2. Загрузка данных\n",
    "# =======================\n",
    "file_path = \"../data/raw/2019-Nov.csv\"  # путь к файлу\n",
    "df = pd.read_csv(file_path)\n",
    "\n",
    "# Проверка структуры\n",
    "print(\"Размер датасета:\", df.shape)\n",
    "df.head()"
   ]
  }
 ],
 "metadata": {
  "language_info": {
   "name": "python"
  }
 },
 "nbformat": 4,
 "nbformat_minor": 5
}
